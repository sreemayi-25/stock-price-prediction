import pandas as pd
import numpy as np
import matplotlib.pyplot as plt
from sklearn.preprocessing import MinMaxScaler
from keras.models import Sequential
from keras.layers import Dense, LSTM
from sklearn.model_selection import train_test_split
from sklearn.linear_model import LinearRegression
from sklearn.metrics import mean_squared_error
from sklearn.metrics import mean_absolute_error, r2_score

# Load the Tesla dataset
df = pd.read_csv('GOOGL.csv')

# Ensure the dataset is sorted by date
df['Date'] = pd.to_datetime(df['Date'])
df = df.sort_values(by='Date')

# Use 'Close' prices for prediction
data = df[['Close']].values

# Normalize the data using MinMaxScaler
scaler = MinMaxScaler(feature_range=(0, 1))
scaled_data = scaler.fit_transform(data)

# Prepare the data for LSTM
def create_dataset(data, time_step=60):
    X, y = [], []
    #X: To store the input sequences(past 60)
    #y : to store corresponding target values
    for i in range(len(data) - time_step):
        X.append(data[i:i + time_step, 0])
        y.append(data[i + time_step, 0])
    return np.array(X), np.array(y)

time_step = 60  # Lookback period
X, y = create_dataset(scaled_data, time_step)

# Reshape input to [samples, time_steps, features]
X = X.reshape((X.shape[0], X.shape[1], 1))

# Split data into training and testing sets
X_train, X_test, y_train, y_test = train_test_split(X, y, test_size=0.2, random_state=42)

# Define the LSTM model (sequential is a class) A linear stack of layers where each layer has exactly one input tensor and one output tensor
model = Sequential([
    LSTM(50, return_sequences=True, input_shape=(X_train.shape[1], 1)), #one output for each time step in the input
    LSTM(50, return_sequences=False), #layer outputs only the final hidden state
    Dense(25),
    Dense(1)  # Output layer for stock price prediction
])

# Compile the model (loss functions)
model.compile(optimizer='adam', loss='mean_squared_error')

# Train the model
model.fit(X_train, y_train, batch_size=32, epochs=50, verbose=0)

# Make predictions with LSTM
predicted_prices_lstm = model.predict(X_test)

# Scale back to original prices
predicted_prices_lstm = scaler.inverse_transform(predicted_prices_lstm.reshape(-1, 1)) #reverses the scaling operation(#reshapes 1d to 2d)
y_test_original = scaler.inverse_transform(y_test.reshape(-1, 1)) #reshapes 1D array of actual prices into a 2D array with 1 col

# Prepare data for Linear Regression
X_lr = np.array(range(len(data))).reshape(-1, 1) 
y_lr = data

# Split data for Linear Regression
X_lr_train, X_lr_test, y_lr_train, y_lr_test = train_test_split(X_lr[:-60], y_lr[:-60], test_size=0.2, random_state=42)

# Train Linear Regression model
lr_model = LinearRegression()
lr_model.fit(X_lr_train, y_lr_train)

# Predict using Linear Regression
predicted_prices_lr = lr_model.predict(X_lr_test)

# Calculate RMSE for both models
rmse_lstm = np.sqrt(mean_squared_error(y_test_original, predicted_prices_lstm))
rmse_lr = np.sqrt(mean_squared_error(y_lr_test, predicted_prices_lr))

mae_lstm = mean_absolute_error(y_test_original, predicted_prices_lstm)
mae_lr = mean_absolute_error(y_lr_test, predicted_prices_lr)

r2_lstm = r2_score(y_test_original, predicted_prices_lstm)
r2_lr = r2_score(y_lr_test, predicted_prices_lr)

# Display metrics
print()
print("\033[1mLSTM Model Performance:\033[0m")
print(f"RMSE: {rmse_lstm}")
print(f"MAE: {mae_lstm}")
print(f"R²: {r2_lstm}")
print()
print("\033[1mLinear Regression Model Performance:\033[0m")
print(f"RMSE: {rmse_lr}")
print(f"MAE: {mae_lr}")
print(f"R²: {r2_lr}")

# Predict future price using LSTM
last_60_days = scaled_data[-60:]
X_future = last_60_days.reshape(1, -1, 1)
future_price = model.predict(X_future)
future_price = scaler.inverse_transform(future_price)
print()
print(f"\033[1mLSTM Predicted Future Price: {future_price[0][0]}\033[0m")

# Plot LSTM Results
plt.figure(figsize=(14, 6))
plt.plot(y_test_original, label='Actual Prices', color='blue')
plt.plot(predicted_prices_lstm, label='LSTM Predicted Prices', color='red')
plt.title('LSTM: Google Stock Price Prediction')
plt.xlabel('Time')
plt.ylabel('Price')
plt.legend()
plt.show()

# Plot Linear Regression Results
plt.figure(figsize=(14, 6))
plt.plot(y_lr_test, label='Actual Prices', color='blue')
plt.plot(predicted_prices_lr, label='Linear Regression Predicted Prices', color='green')
plt.title('Linear Regression: Google Stock Price Prediction')
plt.xlabel('Time')
plt.ylabel('Price')
plt.legend()
plt.show()


